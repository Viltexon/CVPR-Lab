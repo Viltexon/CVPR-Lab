{
  "nbformat": 4,
  "nbformat_minor": 0,
  "metadata": {
    "colab": {
      "name": "results.ipynb",
      "provenance": [],
      "collapsed_sections": []
    },
    "kernelspec": {
      "name": "python3",
      "display_name": "Python 3"
    }
  },
  "cells": [
    {
      "cell_type": "code",
      "metadata": {
        "id": "HxOf8BRfVV-T"
      },
      "source": [
        "import numpy as np\n",
        "import pandas as pd \n",
        "from functools import reduce"
      ],
      "execution_count": 36,
      "outputs": []
    },
    {
      "cell_type": "markdown",
      "metadata": {
        "id": "UxZPrUsv--BZ"
      },
      "source": [
        "### Import csv files"
      ]
    },
    {
      "cell_type": "code",
      "metadata": {
        "id": "xROZjc5kXJsr"
      },
      "source": [
        "results_ORB_stand_url = 'https://raw.githubusercontent.com/Viltexon/CVPR-Lab/master/Lab%202/csv/results_ORB_stand.csv'\n",
        "results_ORB_stand = pd.read_csv(results_ORB_stand_url, sep=',')\n",
        "results_AKAZE_stand_url = 'https://raw.githubusercontent.com/Viltexon/CVPR-Lab/master/Lab%202/csv/results_AKAZE_stand.csv'\n",
        "results_AKAZE_stand = pd.read_csv(results_AKAZE_stand_url, sep=',')\n",
        "results_SURF_stand_url = 'https://raw.githubusercontent.com/EgorZagny/CV_Lab2_SURF/main/csv/SURF_VladB_dataresult.csv'\n",
        "results_SURF_stand = pd.read_csv(results_SURF_stand_url, sep=',')\n",
        "stand_positive = 100\n",
        "stand_negative = 20\n",
        "\n",
        "results_ORB_CarModel_url = 'https://raw.githubusercontent.com/Viltexon/CVPR-Lab/master/Lab%202/csv/results_ORB_CarModel.csv'\n",
        "results_ORB_CarModel = pd.read_csv(results_ORB_CarModel_url, sep=',')\n",
        "results_AKAZE_CarModel_url = 'https://raw.githubusercontent.com/Viltexon/CVPR-Lab/master/Lab%202/csv/results_AKAZE_CarModel.csv'\n",
        "results_AKAZE_CarModel = pd.read_csv(results_AKAZE_CarModel_url, sep=',')\n",
        "results_SURF_CarModel_url = 'https://raw.githubusercontent.com/EgorZagny/CV_Lab2_SURF/main/csv/SURF_Egor_dataresult.csv'\n",
        "results_SURF_CarModel = pd.read_csv(results_SURF_CarModel_url, sep=',')\n",
        "CarModel_positive = 102\n",
        "CarModel_negative = 18\n",
        "\n",
        "results_ORB_calculator_url = 'https://raw.githubusercontent.com/Viltexon/CVPR-Lab/master/Lab%202/csv/results_ORB_calculator.csv'\n",
        "results_ORB_calculator = pd.read_csv(results_ORB_calculator_url, sep=',')\n",
        "results_AKAZE_calculator_url = 'https://raw.githubusercontent.com/Viltexon/CVPR-Lab/master/Lab%202/csv/results_AKAZE_calculator.csv'\n",
        "results_AKAZE_calculator = pd.read_csv(results_AKAZE_calculator_url, sep=',')\n",
        "results_SURF_calculator_url = 'https://raw.githubusercontent.com/EgorZagny/CV_Lab2_SURF/main/csv/SURF_VladK_dataresult.csv'\n",
        "results_SURF_calculator = pd.read_csv(results_SURF_calculator_url, sep=',')\n",
        "calculator_positive = 94\n",
        "calculator_negative = 20"
      ],
      "execution_count": 37,
      "outputs": []
    },
    {
      "cell_type": "markdown",
      "metadata": {
        "id": "PCWzNK1r_HP9"
      },
      "source": [
        "### True Positives and True Negatives results"
      ]
    },
    {
      "cell_type": "code",
      "metadata": {
        "id": "VDkamZCoXZw6",
        "outputId": "f7af41d3-e630-4880-e66d-b745309552e7",
        "colab": {
          "base_uri": "https://localhost:8080/",
          "height": 252
        }
      },
      "source": [
        "# stand dataset\n",
        "print(\"stand dataset\")\n",
        "TP_ORB_stand = 100*results_ORB_stand[\"MeanDist\"].head(stand_positive).count().sum()/stand_positive\n",
        "TN_ORB_stand = 100*results_ORB_stand[\"MeanDist\"].tail(stand_negative).isna().sum()/stand_negative\n",
        "print(\"ORB:\", round(TP_ORB_stand, 2), \"% /\", round(TN_ORB_stand, 2), \"%\")\n",
        "\n",
        "TP_AKAZE_stand = 100*results_AKAZE_stand[\"MeanDist\"].head(stand_positive).count().sum()/stand_positive\n",
        "TN_AKAZE_stand = 100*results_AKAZE_stand[\"MeanDist\"].tail(stand_negative).isna().sum()/stand_negative\n",
        "print(\"AKAZE:\", round(TP_AKAZE_stand, 2), \"% /\", round(TN_AKAZE_stand, 2), \"%\")\n",
        "\n",
        "TP_SURF_stand = 100*results_SURF_stand[\"MeanDist\"].head(stand_positive).count().sum()/stand_positive\n",
        "TN_SURF_stand = 100*results_SURF_stand[\"MeanDist\"].tail(stand_negative).isna().sum()/stand_negative\n",
        "print(\"SURF:\", round(TP_SURF_stand, 2), \"% /\", round(TN_SURF_stand, 2), \"%\")\n",
        "\n",
        "# CarModel dataset\n",
        "print(\"\\nCarModel dataset\")\n",
        "TP_ORB_CarModel = 100*results_ORB_CarModel[\"MeanDist\"].head(CarModel_positive).count().sum()/CarModel_positive\n",
        "TN_ORB_CarModel = 100*results_ORB_CarModel[\"MeanDist\"].tail(CarModel_negative).isna().sum()/CarModel_negative\n",
        "print(\"ORB:\", round(TP_ORB_CarModel, 2), \"% /\", round(TN_ORB_CarModel, 2), \"%\")\n",
        "\n",
        "TP_AKAZE_CarModel = 100*results_AKAZE_CarModel[\"MeanDist\"].head(CarModel_positive).count().sum()/CarModel_positive\n",
        "TN_AKAZE_CarModel = 100*results_AKAZE_CarModel[\"MeanDist\"].tail(CarModel_negative).isna().sum()/CarModel_negative\n",
        "print(\"AKAZE:\", round(TP_AKAZE_CarModel, 2), \"% /\", round(TN_AKAZE_CarModel, 2), \"%\")\n",
        "\n",
        "TP_SURF_CarModel = 100*results_SURF_CarModel[\"MeanDist\"].head(CarModel_positive).count().sum()/CarModel_positive\n",
        "TN_SURF_CarModel = 100*results_SURF_CarModel[\"MeanDist\"].tail(CarModel_negative).isna().sum()/CarModel_negative\n",
        "print(\"SURF:\", round(TP_SURF_CarModel, 2), \"% /\", round(TN_SURF_CarModel, 2), \"%\")\n",
        "\n",
        "# calculator dataset\n",
        "print(\"\\ncalculator dataset\")\n",
        "TP_ORB_calculator = 100*results_ORB_calculator[\"MeanDist\"].head(calculator_positive).count().sum()/calculator_positive\n",
        "TN_ORB_calculator = 100*results_ORB_calculator[\"MeanDist\"].tail(calculator_negative).isna().sum()/calculator_negative\n",
        "print(\"ORB:\", round(TP_ORB_calculator, 2), \"% /\", round(TN_ORB_calculator, 2), \"%\")\n",
        "\n",
        "TP_AKAZE_calculator = 100*results_AKAZE_calculator[\"MeanDist\"].head(calculator_positive).count().sum()/calculator_positive\n",
        "TN_AKAZE_calculator = 100*results_AKAZE_calculator[\"MeanDist\"].tail(calculator_negative).isna().sum()/calculator_negative\n",
        "print(\"AKAZE:\", round(TP_AKAZE_calculator, 2), \"% /\", round(TN_AKAZE_calculator, 2), \"%\")\n",
        "\n",
        "TP_SURF_calculator = 100*results_SURF_calculator[\"MeanDist\"].head(calculator_positive).count().sum()/calculator_positive\n",
        "TN_SURF_calculator = 100*results_SURF_calculator[\"MeanDist\"].tail(calculator_negative).isna().sum()/calculator_negative\n",
        "print(\"SURF:\", round(TP_SURF_calculator, 2), \"% /\", round(TN_SURF_calculator, 2), \"%\")"
      ],
      "execution_count": 38,
      "outputs": [
        {
          "output_type": "stream",
          "text": [
            "stand dataset\n",
            "ORB: 72.0 % / 70.0 %\n",
            "AKAZE: 71.0 % / 65.0 %\n",
            "SURF: 70.0 % / 65.0 %\n",
            "\n",
            "CarModel dataset\n",
            "ORB: 76.47 % / 88.89 %\n",
            "AKAZE: 71.57 % / 77.78 %\n",
            "SURF: 85.29 % / 100.0 %\n",
            "\n",
            "calculator dataset\n",
            "ORB: 70.21 % / 60.0 %\n",
            "AKAZE: 60.64 % / 70.0 %\n",
            "SURF: 60.64 % / 60.0 %\n"
          ],
          "name": "stdout"
        }
      ]
    },
    {
      "cell_type": "markdown",
      "metadata": {
        "id": "A4N4MAeq_WGM"
      },
      "source": [
        "## Size/Time Performance"
      ]
    },
    {
      "cell_type": "code",
      "metadata": {
        "id": "lH7luSI2jJvf",
        "outputId": "b2776112-72ea-4a38-fa93-e7f632cfe368",
        "colab": {
          "base_uri": "https://localhost:8080/",
          "height": 432
        }
      },
      "source": [
        "All_ORB = results_ORB_stand.dropna().append(results_ORB_CarModel.dropna()).append(results_ORB_calculator.dropna())\n",
        "All_ORB = All_ORB[[\"Size\", \"Time\"]].reset_index(drop=True)\n",
        "All_ORB = All_ORB.groupby(['Size']).mean() \n",
        "\n",
        "All_AKAZE = results_AKAZE_stand.dropna().append(results_AKAZE_CarModel.dropna()).append(results_AKAZE_calculator.dropna())\n",
        "All_AKAZE = All_AKAZE[[\"Size\", \"Time\"]].reset_index(drop=True)\n",
        "All_AKAZE = All_AKAZE.groupby(['Size']).mean() \n",
        "\n",
        "All_SURF = results_SURF_stand.dropna().append(results_SURF_CarModel.dropna()).append(results_SURF_calculator.dropna())\n",
        "All_SURF = All_SURF[[\"Size\", \"Time\"]].reset_index(drop=True)\n",
        "All_SURF = All_SURF.groupby(['Size']).mean() \n",
        "\n",
        "All_Time_Size = [All_ORB, All_AKAZE, All_SURF]\n",
        "\n",
        "Time_Size_result = reduce(lambda left,right: pd.merge(left,right,on='Size'), All_Time_Size)\n",
        "Time_Size_result.rename(columns={\"Time_x\": \"ORB\", \"Time_y\": \"AKAZE\", \"Time\": \"SURF\"})"
      ],
      "execution_count": 39,
      "outputs": [
        {
          "output_type": "execute_result",
          "data": {
            "text/html": [
              "<div>\n",
              "<style scoped>\n",
              "    .dataframe tbody tr th:only-of-type {\n",
              "        vertical-align: middle;\n",
              "    }\n",
              "\n",
              "    .dataframe tbody tr th {\n",
              "        vertical-align: top;\n",
              "    }\n",
              "\n",
              "    .dataframe thead th {\n",
              "        text-align: right;\n",
              "    }\n",
              "</style>\n",
              "<table border=\"1\" class=\"dataframe\">\n",
              "  <thead>\n",
              "    <tr style=\"text-align: right;\">\n",
              "      <th></th>\n",
              "      <th>ORB</th>\n",
              "      <th>AKAZE</th>\n",
              "      <th>SURF</th>\n",
              "    </tr>\n",
              "    <tr>\n",
              "      <th>Size</th>\n",
              "      <th></th>\n",
              "      <th></th>\n",
              "      <th></th>\n",
              "    </tr>\n",
              "  </thead>\n",
              "  <tbody>\n",
              "    <tr>\n",
              "      <th>76800</th>\n",
              "      <td>0.007979</td>\n",
              "      <td>0.007978</td>\n",
              "      <td>0.021000</td>\n",
              "    </tr>\n",
              "    <tr>\n",
              "      <th>129792</th>\n",
              "      <td>0.026798</td>\n",
              "      <td>0.021722</td>\n",
              "      <td>0.043469</td>\n",
              "    </tr>\n",
              "    <tr>\n",
              "      <th>169050</th>\n",
              "      <td>0.009974</td>\n",
              "      <td>0.025931</td>\n",
              "      <td>0.037000</td>\n",
              "    </tr>\n",
              "    <tr>\n",
              "      <th>519168</th>\n",
              "      <td>0.065521</td>\n",
              "      <td>0.090924</td>\n",
              "      <td>0.217255</td>\n",
              "    </tr>\n",
              "    <tr>\n",
              "      <th>915200</th>\n",
              "      <td>0.087765</td>\n",
              "      <td>0.156581</td>\n",
              "      <td>0.290200</td>\n",
              "    </tr>\n",
              "    <tr>\n",
              "      <th>921600</th>\n",
              "      <td>0.057817</td>\n",
              "      <td>0.147605</td>\n",
              "      <td>0.198400</td>\n",
              "    </tr>\n",
              "    <tr>\n",
              "      <th>951040</th>\n",
              "      <td>0.093718</td>\n",
              "      <td>0.170544</td>\n",
              "      <td>0.465300</td>\n",
              "    </tr>\n",
              "    <tr>\n",
              "      <th>1116160</th>\n",
              "      <td>0.041888</td>\n",
              "      <td>0.177523</td>\n",
              "      <td>0.191100</td>\n",
              "    </tr>\n",
              "    <tr>\n",
              "      <th>1228800</th>\n",
              "      <td>0.091379</td>\n",
              "      <td>0.200720</td>\n",
              "      <td>0.481993</td>\n",
              "    </tr>\n",
              "    <tr>\n",
              "      <th>1445120</th>\n",
              "      <td>0.058816</td>\n",
              "      <td>0.220378</td>\n",
              "      <td>0.434300</td>\n",
              "    </tr>\n",
              "    <tr>\n",
              "      <th>2073600</th>\n",
              "      <td>0.120878</td>\n",
              "      <td>0.367283</td>\n",
              "      <td>0.746957</td>\n",
              "    </tr>\n",
              "    <tr>\n",
              "      <th>8294400</th>\n",
              "      <td>0.317232</td>\n",
              "      <td>1.415964</td>\n",
              "      <td>2.387947</td>\n",
              "    </tr>\n",
              "  </tbody>\n",
              "</table>\n",
              "</div>"
            ],
            "text/plain": [
              "              ORB     AKAZE      SURF\n",
              "Size                                 \n",
              "76800    0.007979  0.007978  0.021000\n",
              "129792   0.026798  0.021722  0.043469\n",
              "169050   0.009974  0.025931  0.037000\n",
              "519168   0.065521  0.090924  0.217255\n",
              "915200   0.087765  0.156581  0.290200\n",
              "921600   0.057817  0.147605  0.198400\n",
              "951040   0.093718  0.170544  0.465300\n",
              "1116160  0.041888  0.177523  0.191100\n",
              "1228800  0.091379  0.200720  0.481993\n",
              "1445120  0.058816  0.220378  0.434300\n",
              "2073600  0.120878  0.367283  0.746957\n",
              "8294400  0.317232  1.415964  2.387947"
            ]
          },
          "metadata": {
            "tags": []
          },
          "execution_count": 39
        }
      ]
    },
    {
      "cell_type": "markdown",
      "metadata": {
        "id": "X8pDzvSf_t0c"
      },
      "source": [
        "### Mean features distance"
      ]
    },
    {
      "cell_type": "code",
      "metadata": {
        "id": "zwP2VDmTwifX",
        "outputId": "d31d484b-7da7-40f0-8699-f26bd24752a9",
        "colab": {
          "base_uri": "https://localhost:8080/",
          "height": 252
        }
      },
      "source": [
        "# stand dataset\n",
        "print(\"stand dataset\")\n",
        "print(\"ORB:\", results_ORB_stand[\"MeanDist\"].dropna().mean())\n",
        "print(\"AKAZE:\", results_AKAZE_stand[\"MeanDist\"].dropna().mean())\n",
        "print(\"SURF:\", results_SURF_stand[\"MeanDist\"].dropna().mean())\n",
        "\n",
        "# CarModel dataset\n",
        "print(\"\\nCarModel dataset\")\n",
        "print(\"ORB:\", results_ORB_CarModel[\"MeanDist\"].dropna().mean())\n",
        "print(\"AKAZE:\", results_AKAZE_CarModel[\"MeanDist\"].dropna().mean())\n",
        "print(\"SURF:\", results_SURF_CarModel[\"MeanDist\"].dropna().mean())\n",
        "\n",
        "# calculator dataset\n",
        "print(\"\\ncalculator dataset\")\n",
        "print(\"ORB:\", results_ORB_calculator[\"MeanDist\"].dropna().mean())\n",
        "print(\"AKAZE:\", results_AKAZE_calculator[\"MeanDist\"].dropna().mean())\n",
        "print(\"SURF:\", results_SURF_calculator[\"MeanDist\"].dropna().mean())"
      ],
      "execution_count": 40,
      "outputs": [
        {
          "output_type": "stream",
          "text": [
            "stand dataset\n",
            "ORB: 189.6791680099979\n",
            "AKAZE: 402.38245924369414\n",
            "SURF: 0.0827402597402597\n",
            "\n",
            "CarModel dataset\n",
            "ORB: 234.20436248174548\n",
            "AKAZE: 470.86495709759095\n",
            "SURF: 0.21359655172413797\n",
            "\n",
            "calculator dataset\n",
            "ORB: 218.20849454890975\n",
            "AKAZE: 397.2359525514602\n",
            "SURF: 0.1072092307692308\n"
          ],
          "name": "stdout"
        }
      ]
    }
  ]
}